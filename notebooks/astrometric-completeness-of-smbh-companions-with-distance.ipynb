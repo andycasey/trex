{
 "cells": [
  {
   "cell_type": "markdown",
   "metadata": {},
   "source": [
    "# How far away would we be able to detect non-luminous companions in astrometry?"
   ]
  },
  {
   "cell_type": "code",
   "execution_count": 2,
   "metadata": {
    "collapsed": true
   },
   "outputs": [],
   "source": [
    "import sys\n",
    "sys.path.insert(0, \"../code\")\n",
    "\n",
    "import h5py as h5\n",
    "import itertools\n",
    "import numpy as np\n",
    "import multiprocessing as mp\n",
    "import matplotlib.pyplot as plt\n",
    "from astropy.time import Time\n",
    "from astropy import (coordinates as coord, units as u)\n",
    "from astropy.coordinates.matrix_utilities import (matrix_product, rotation_matrix)\n",
    "from tqdm import tqdm\n",
    "from scipy import (optimize as op)\n",
    "from astropy import constants\n",
    "\n",
    "from matplotlib.colors import LogNorm\n",
    "from matplotlib import cm\n",
    "from mpl_utils import mpl_style\n",
    "from matplotlib.collections import LineCollection\n",
    "\n",
    "import twobody\n",
    "\n",
    "\n",
    "plt.style.use(mpl_style)\n",
    "\n",
    "%matplotlib inline\n",
    "\n",
    "\n",
    "np.random.seed(0)"
   ]
  },
  {
   "cell_type": "code",
   "execution_count": 3,
   "metadata": {
    "collapsed": true
   },
   "outputs": [],
   "source": [
    "def approximate_ruwe(t, P, m1, m2, distance, f1=None, f2=None, t0=None, \n",
    "                     i=0*u.deg, **kwargs):\n",
    "    \"\"\"\n",
    "    Approximate the on-sky astrometric excess noise for a binary system with the\n",
    "    given system parameters at a certain distance.\n",
    "\n",
    "    This approximating function ignores the following effects:\n",
    "\n",
    "    (1) The distortions that arise due to sky projections.\n",
    "    (2) Inclination effects.\n",
    "    (3) Omega effects.\n",
    "\n",
    "    In part it also assumes:\n",
    "\n",
    "    (1) The times were observed pseudo-randomly.\n",
    "    (2) The orbit is fully sampled.\n",
    "\n",
    "    :param t:\n",
    "        The times that the system was observed.\n",
    "\n",
    "    :param P:\n",
    "        The period of the binary system.\n",
    "\n",
    "    :param m1:\n",
    "        The mass of the primary star.\n",
    "\n",
    "    :param m2:\n",
    "        The mass of the secondary system.\n",
    "\n",
    "    :param distance:\n",
    "        The distance from the observer to the center of mass of the binary\n",
    "        system.\n",
    "\n",
    "    :param f1: [optional]\n",
    "        The flux of the primary star. If `None` is given then this is assumed to\n",
    "        be $m_1^{3.5}$.\n",
    "\n",
    "    :param f2: [optional]\n",
    "        The flux of the secondary. If `None` is given then this is assumed to be\n",
    "        $m_2^{3.5}$.\n",
    "\n",
    "    :returns:\n",
    "        A two-part tuple containing the root-mean-squared deviations in on-sky\n",
    "        position (in units of milliarcseconds), and a dictionary containing meta\n",
    "        information about the binary system.\n",
    "    \"\"\"\n",
    "\n",
    "    if f1 is None:\n",
    "        f1 = m1.to(u.solMass).value**3.5\n",
    "    if f2 is None:\n",
    "        f2 = m2.to(u.solMass).value**3.5\n",
    "\n",
    "    if t0 is None:\n",
    "        t0 = Time('J2015.5')\n",
    "\n",
    "    m_total = m1 + m2\n",
    "    w = np.array([f1, f2])/(f1 + f2)\n",
    "    a = twobody.P_m_to_a(P, m_total).to(u.AU).value\n",
    "\n",
    "    a1 = m2 * a / m_total\n",
    "    a2 = m1 * a / m_total\n",
    "\n",
    "    w1, w2 = (w[0], w[1])\n",
    "\n",
    "    # TODO: replace this with integral!\n",
    "    dt = (t - t0).to(u.day)\n",
    "    phi = (2 * np.pi * dt / P).value\n",
    "    N = phi.size\n",
    "\n",
    "    dx = a1 * w1 * np.cos(phi) + a2 * w2 * np.cos(phi + np.pi)\n",
    "    dy = a1 * w1 * np.sin(phi) + a2 * w2 * np.sin(phi + np.pi)\n",
    "\n",
    "    planar_rms_in_au = np.sqrt(np.sum((dx - np.mean(dx))**2 + (dy - np.mean(dy))**2)/N).value\n",
    "\n",
    "    # Need some corrections for when the period is longer than the observing timespan, and the\n",
    "    # inclination angle is non-zero.\n",
    "\n",
    "    # For this it really depends on what t0/Omega is: if you see half the orbit in one phase or\n",
    "    # another...\n",
    "    # TODO: this requires a thinko.\n",
    "    \n",
    "\n",
    "    \"\"\"\n",
    "    Approximate given some inclination angle.\n",
    "    At zero inclination, assume circle on sky such that:\n",
    "    \n",
    "        rms = sqrt(ds^2 + ds^2) = sqrt(2ds^2)\n",
    "\n",
    "    and \n",
    "        \n",
    "        ds = np.sqrt(0.5 * rms^2)\n",
    "\n",
    "    Now when inclined (even at 90) we still get ds + contribution:\n",
    "\n",
    "        rms_new = sqrt(ds^2 + (cos(i) * ds)^2)\n",
    "    \"\"\"\n",
    "\n",
    "    ds = np.sqrt(0.5 * planar_rms_in_au**2)\n",
    "    rms_in_au = np.sqrt(ds**2 + (np.cos(i) * ds)**2)\n",
    "    rms_in_mas = (rms_in_au * u.au / distance).to(u.mas, equivalencies=u.dimensionless_angles())\n",
    "\n",
    "    # Intrinsic error on position in one direction is.\n",
    "    # These are the final values. The individual epochs are probably about a 10th of this.\n",
    "    intrinsic_ra_error = 0.029 # mas\n",
    "    intrinsic_dec_error = 0.026 # mas\n",
    "\n",
    "    intrinsic_ra_error /= 10\n",
    "    intrinsic_dec_error /= 10\n",
    "\n",
    "    chi2 = N * rms_in_mas.to(u.mas).value**2 / np.sqrt(intrinsic_ra_error**2 + intrinsic_dec_error**2)\n",
    "\n",
    "    approx_ruwe = np.sqrt(chi2/(N - 2))\n",
    "\n",
    "    meta = dict(weights=w,\n",
    "                a=a,\n",
    "                a1=a1,\n",
    "                a2=a2,\n",
    "                w1=w1,\n",
    "                w2=w2,\n",
    "                phi=phi,\n",
    "                dx=dx,\n",
    "                dy=dy,\n",
    "                rms_in_au=rms_in_au)\n",
    "\n",
    "    return (approx_ruwe, meta)"
   ]
  },
  {
   "cell_type": "code",
   "execution_count": 12,
   "metadata": {},
   "outputs": [],
   "source": [
    "np.random.seed(0)\n",
    "\n",
    "N = 10 # simulations per distance trial\n",
    "O = 200 # number of astrometric observations per source\n",
    "\n",
    "# What period do we expect?\n",
    "P = 30 * u.day\n",
    "\n",
    "M_1 = np.random.normal(1.5, 0.25, N) * u.solMass\n",
    "M_2 = 3.0 * u.solMass\n",
    "\n",
    "f_1 = 1\n",
    "f_2 = 0\n",
    "\n",
    "cos_i = np.random.uniform(0, 1, N)\n",
    "i = np.arccos(cos_i) * u.rad\n",
    "\n",
    "\n",
    "# Assume that we observe each system at a uniformly random time.\n",
    "# From https://www.cosmos.esa.int/web/gaia/dr2\n",
    "obs_start, obs_end = (Time('2014-07-25T10:30'), Time('2016-05-23T11:35')) \n",
    "t = obs_start + np.random.uniform(0, 1, O) * (obs_end - obs_start)\n",
    "\n",
    "# Let us assume that anything with RUWE > 1.5 will be a binary.\n",
    "ruwe_binarity_threshold = 1.5"
   ]
  },
  {
   "cell_type": "code",
   "execution_count": 13,
   "metadata": {},
   "outputs": [
    {
     "name": "stderr",
     "output_type": "stream",
     "text": [
      "100%|██████████| 10/10 [00:00<00:00, 145.07it/s]\n"
     ]
    }
   ],
   "source": [
    "fiducial_distance = 1 * u.pc\n",
    "fiducial_ruwe = np.zeros(N, dtype=float)\n",
    "for j in tqdm(range(N)):\n",
    "    fiducial_ruwe[j], meta = approximate_ruwe(t, P, M_1[j], M_2, fiducial_distance, f1=f_1, f2=f_2, i=i[j])\n"
   ]
  },
  {
   "cell_type": "code",
   "execution_count": 14,
   "metadata": {},
   "outputs": [
    {
     "name": "stderr",
     "output_type": "stream",
     "text": [
      "10000it [00:01, 8963.07it/s]\n"
     ]
    }
   ],
   "source": [
    "# Now calculate for many distances.\n",
    "distances = np.linspace(1, 10000, 10000) * u.pc\n",
    "D = distances.size\n",
    "\n",
    "# Just store a detection completeness at each distance.\n",
    "completeness = np.zeros(D, dtype=float)\n",
    "for j, distance in tqdm(enumerate(distances)):\n",
    "    ruwe = fiducial_ruwe * (fiducial_distance/distance)\n",
    "    # Calculate the efficiency of detection at this distance\n",
    "    completeness[j] = np.sum(ruwe >= ruwe_binarity_threshold)/N\n",
    "    "
   ]
  },
  {
   "cell_type": "code",
   "execution_count": 10,
   "metadata": {
    "scrolled": true
   },
   "outputs": [
    {
     "data": {
      "text/plain": [
       "[]"
      ]
     },
     "execution_count": 10,
     "metadata": {},
     "output_type": "execute_result"
    },
    {
     "data": {
      "image/png": "[encoded data removed]",
      "text/plain": [
       "<matplotlib.figure.Figure at 0x232313dc50>"
      ]
     },
     "metadata": {},
     "output_type": "display_data"
    }
   ],
   "source": [
    "fig, ax = plt.subplots(figsize=(10, 10))\n",
    "ax.plot(distances, completeness, ms=0)\n",
    "ax.axhline(0, c=\"#666666\", linestyle=\":\", lw=1, zorder=-1, ms=0)\n",
    "ax.axhline(1, c=\"#666666\", linestyle=\":\", lw=1, zorder=-1, ms=0)\n",
    "ax.set_ylim(-0.05, 1.05)\n",
    "ax.set_xlabel(r\"{distance / pc}\")\n",
    "ax.set_ylabel(r\"{completeness}\")\n",
    "ax.semilogx()"
   ]
  },
  {
   "cell_type": "code",
   "execution_count": 19,
   "metadata": {},
   "outputs": [
    {
     "name": "stdout",
     "output_type": "stream",
     "text": [
      "Completeness at 1.75 kpc: 0.6\n"
     ]
    }
   ],
   "source": [
    "# SMBH candidate 1 is at 1.75 kpc\n",
    "print(\"Completeness at 1.75 kpc: {:.1f}\".format(completeness[distances.searchsorted(1.75 * u.kpc)]))\n",
    "\n",
    "# The RUWE is 1.28 (marginal; no strong evidence)"
   ]
  },
  {
   "cell_type": "code",
   "execution_count": null,
   "metadata": {
    "collapsed": true
   },
   "outputs": [],
   "source": []
  }
 ],
 "metadata": {
  "kernelspec": {
   "display_name": "py36",
   "language": "python",
   "name": "py36"
  },
  "language_info": {
   "codemirror_mode": {
    "name": "ipython",
    "version": 3
   },
   "file_extension": ".py",
   "mimetype": "text/x-python",
   "name": "python",
   "nbconvert_exporter": "python",
   "pygments_lexer": "ipython3",
   "version": "3.6.3"
  }
 },
 "nbformat": 4,
 "nbformat_minor": 2
}
