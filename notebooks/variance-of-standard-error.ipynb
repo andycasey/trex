{
 "cells": [
  {
   "cell_type": "code",
   "execution_count": 2,
   "metadata": {
    "collapsed": true
   },
   "outputs": [],
   "source": [
    "import numpy as np\n",
    "import matplotlib.pyplot as plt\n",
    "\n",
    "%matplotlib inline"
   ]
  },
  {
   "cell_type": "code",
   "execution_count": 37,
   "metadata": {
    "collapsed": true
   },
   "outputs": [],
   "source": [
    "np.random.seed(1)\n",
    "\n",
    "\n",
    "S = 60 # trials of intrinsic sigma\n",
    "N = 50 # trials for each intrinsic sigma\n",
    "M = 20 # number of draws from the normal\n",
    "intrinsic_sigma_max = 200\n",
    "\n",
    "def simulate_var(intrinsic_sigma, N=50, M=20):\n",
    "    vals = np.zeros(N, dtype=float)\n",
    "    \n",
    "    for j in range(N):\n",
    "        v = np.random.normal(0, intrinsic_sigma, size=M)\n",
    "        std = np.sqrt(np.sum((v - np.mean(v))**2)/(M-1))\n",
    "        vals[j] = std\n",
    "    \n",
    "    return np.sqrt(np.sum(vals**2)/(N-1))\n",
    "\n",
    "\n",
    "def simulate(S, N, M, intrinsic_sigma_max=200):\n",
    "\n",
    "    intrinsic_sigmas = np.linspace(1, intrinsic_sigma_max, S)\n",
    "\n",
    "    var_sim = np.zeros(S)\n",
    "    approx_var_sim = np.zeros(S)\n",
    "\n",
    "    for i, intrinsic_sigma in enumerate(intrinsic_sigmas):\n",
    "\n",
    "        var_sim[i] = simulate_var(intrinsic_sigma, N=N, M=M)\n",
    "        '''\n",
    "        vals = np.zeros(N, dtype=float)\n",
    "\n",
    "        for j in range(N):\n",
    "            v = np.random.normal(0, intrinsic_sigma, size=M)\n",
    "            std = np.sqrt(np.sum((v - np.mean(v))**2)/(M-1))\n",
    "            vals[j] = np.sqrt(2) * std\n",
    "\n",
    "        var_sim[i] = np.sqrt(np.sum(vals**2)/(N-1)) #(np.std(vals)/np.sqrt(N))**2\n",
    "        '''\n",
    "    \n",
    "    return (intrinsic_sigmas, var_sim)"
   ]
  },
  {
   "cell_type": "code",
   "execution_count": 38,
   "metadata": {},
   "outputs": [
    {
     "data": {
      "text/plain": [
       "<matplotlib.collections.PathCollection at 0xa22815470>"
      ]
     },
     "execution_count": 38,
     "metadata": {},
     "output_type": "execute_result"
    },
    {
     "data": {
      "image/png": "[encoded data removed]",
      "text/plain": [
       "<matplotlib.figure.Figure at 0xa21cd0e80>"
      ]
     },
     "metadata": {},
     "output_type": "display_data"
    }
   ],
   "source": [
    "x, y = simulate(S, N, M)\n",
    "x1, y1 = simulate(S, N*3, M*2)\n",
    "\n",
    "\n",
    "fig, ax = plt.subplots(figsize=(10, 10))\n",
    "ax.scatter(x, y, c=\"tab:blue\")\n",
    "ax.scatter(x1, y1, c=\"tab:red\")"
   ]
  },
  {
   "cell_type": "code",
   "execution_count": null,
   "metadata": {},
   "outputs": [],
   "source": []
  },
  {
   "cell_type": "code",
   "execution_count": null,
   "metadata": {
    "collapsed": true
   },
   "outputs": [],
   "source": []
  }
 ],
 "metadata": {
  "kernelspec": {
   "display_name": "py36",
   "language": "python",
   "name": "py36"
  },
  "language_info": {
   "codemirror_mode": {
    "name": "ipython",
    "version": 3
   },
   "file_extension": ".py",
   "mimetype": "text/x-python",
   "name": "python",
   "nbconvert_exporter": "python",
   "pygments_lexer": "ipython3",
   "version": "3.6.3"
  }
 },
 "nbformat": 4,
 "nbformat_minor": 2
}
